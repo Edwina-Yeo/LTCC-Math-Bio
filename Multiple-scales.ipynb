Here's the equivalent Python code for your MATLAB script:

```python
import numpy as np
from scipy.integrate import ode45, ode15s
import matplotlib.pyplot as plt
from scipy.special import jv as besselj

# Section 2: Swimmer dynamics

A = 1  # Amplitude of angle oscillations
omega = 10  # Timescale of swimmer orientation oscillations - must be large
V = 1  # Swimmer speed

# Define the effective and full ODE functions
def effective(t, V):
    return [V * np.cos(t), V * np.sin(t)]

def full(t, V, omega, A):
    return [V * np.cos(t) * (1 + A * np.sin(omega * t)), V * np.sin(t) * (1 + A * np.sin(omega * t))]

# Naive approach where we neglect angle oscillations
t = np.linspace(0, 10, 1000)
r_naive = ode45(lambda t, r: effective(t, V), t, [np.cos(1), np.sin(1)])

# Solve the ODE numerically
r = ode15s(lambda t, r: full(t, V, omega, A), t, [np.cos(1), np.sin(1)])

# Solve the dynamics of the swimmers using effective model
r_eff = ode45(lambda t, r: effective(t, V * besselj(0, A)), t, [np.cos(1), np.sin(1)])

# Plotting
plt.figure()

plt.subplot(1, 2, 1)
plt.plot(r_naive[:, 0], r_naive[:, 1], linewidth=6, label='Naive approach - neglecting oscillations')
plt.plot(r[:, 0], r[:, 1], label='Full ODE solution')
plt.plot(r_eff[:, 0], r_eff[:, 1], label='Effective ODE solution')
plt.legend()
plt.title('Swimmer position')
plt.xlabel('x')
plt.ylabel('y')

plt.subplot(1, 2, 2)
plt.plot(t, np.ones_like(t), linewidth=6, label='Constant angle')
plt.plot(t, 1 + A * np.sin(omega * t), label='Oscillating angle')
plt.plot(t, np.ones_like(t), label='Constant angle')
plt.ylabel('Angle')
plt.xlabel('t')
plt.title('Swimmer angle')

plt.show()
```

This Python code uses `numpy` for numerical operations, `scipy.integrate` for solving ODEs, and `matplotlib` for plotting. Let me know if you need any further adjustments or explanations!
