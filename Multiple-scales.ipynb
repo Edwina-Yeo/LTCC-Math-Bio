{
  "nbformat": 4,
  "nbformat_minor": 0,
  "metadata": {
    "colab": {
      "provenance": [],
      "authorship_tag": "ABX9TyMoNHwCTs079axGhlLyk82u",
      "include_colab_link": true
    },
    "kernelspec": {
      "name": "python3",
      "display_name": "Python 3"
    },
    "language_info": {
      "name": "python"
    }
  },
  "cells": [
    {
      "cell_type": "markdown",
      "metadata": {
        "id": "view-in-github",
        "colab_type": "text"
      },
      "source": [
        "<a href=\"https://colab.research.google.com/github/Edwina-Yeo/LTCC-Math-Bio/blob/main/Multiple-scales.ipynb\" target=\"_parent\"><img src=\"https://colab.research.google.com/assets/colab-badge.svg\" alt=\"Open In Colab\"/></a>"
      ]
    },
    {
      "cell_type": "code",
      "execution_count": null,
      "metadata": {
        "id": "LFxp2qFrlDER"
      },
      "outputs": [],
      "source": [
        "\n",
        "import numpy as np\n",
        "from scipy.integrate import ode45, ode15s\n",
        "import matplotlib.pyplot as plt\n",
        "from scipy.special import jv as besselj\n",
        "\n",
        "# Section 2: Swimmer dynamics\n",
        "\n",
        "A = 1  # Amplitude of angle oscillations\n",
        "omega = 10  # Timescale of swimmer orientation oscillations - must be large\n",
        "V = 1  # Swimmer speed\n",
        "\n",
        "# Define the effective and full ODE functions\n",
        "def effective(t, V):\n",
        "    return [V * np.cos(t), V * np.sin(t)]\n",
        "\n",
        "def full(t, V, omega, A):\n",
        "    return [V * np.cos(t) * (1 + A * np.sin(omega * t)), V * np.sin(t) * (1 + A * np.sin(omega * t))]\n",
        "\n",
        "# Naive approach where we neglect angle oscillations\n",
        "t = np.linspace(0, 10, 1000)\n",
        "r_naive = ode45(lambda t, r: effective(t, V), t, [np.cos(1), np.sin(1)])\n",
        "\n",
        "# Solve the ODE numerically\n",
        "r = ode15s(lambda t, r: full(t, V, omega, A), t, [np.cos(1), np.sin(1)])\n",
        "\n",
        "# Solve the dynamics of the swimmers using effective model\n",
        "r_eff = ode45(lambda t, r: effective(t, V * besselj(0, A)), t, [np.cos(1), np.sin(1)])\n",
        "\n",
        "# Plotting\n",
        "plt.figure()\n",
        "\n",
        "plt.subplot(1, 2, 1)\n",
        "plt.plot(r_naive[:, 0], r_naive[:, 1], linewidth=6, label='Naive approach - neglecting oscillations')\n",
        "plt.plot(r[:, 0], r[:, 1], label='Full ODE solution')\n",
        "plt.plot(r_eff[:, 0], r_eff[:, 1], label='Effective ODE solution')\n",
        "plt.legend()\n",
        "plt.title('Swimmer position')\n",
        "plt.xlabel('x')\n",
        "plt.ylabel('y')\n",
        "\n",
        "plt.subplot(1, 2, 2)\n",
        "plt.plot(t, np.ones_like(t), linewidth=6, label='Constant angle')\n",
        "plt.plot(t, 1 + A * np.sin(omega * t), label='Oscillating angle')\n",
        "plt.plot(t, np.ones_like(t), label='Constant angle')\n",
        "plt.ylabel('Angle')\n",
        "plt.xlabel('t')\n",
        "plt.title('Swimmer angle')\n",
        "\n",
        "plt.show()\n",
        "\n"
      ]
    }
  ]
}