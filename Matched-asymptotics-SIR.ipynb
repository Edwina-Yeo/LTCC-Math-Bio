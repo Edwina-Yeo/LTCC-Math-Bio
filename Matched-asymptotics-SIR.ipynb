{
 "cells": [
  {
   "cell_type": "code",
   "execution_count": null,
   "id": "initial_id",
   "metadata": {
    "collapsed": true
   },
   "outputs": [],
   "source": []
  },
  {
   "cell_type": "code",
   "outputs": [],
   "source": [
    "import numpy as np\n",
    "import matplotlib.pyplot as plt\n",
    "from scipy.integrate import solve_ivp\n",
    "\n",
    "# Parameters\n",
    "g = 1  # Recovery rate - dimensionless\n",
    "b = 10  # Infection rate - dimensionless\n",
    "a = 0.01  # Initial percentage of population that is infected\n",
    "R0 = b / g  # Reproduction number\n",
    "eps = 1 / R0  # Small parameter: 1/R0\n",
    "\n",
    "t_star = -eps * np.log(a) / g  # time at which the late time solution can be used from\n",
    "\n",
    "# Functions\n",
    "def r_late(t):\n",
    "    return (1 - np.exp(-g * (t - t_star))) * (t > t_star)\n",
    "\n",
    "def r_initial(t):\n",
    "    return eps * np.log(1 - a + a * np.exp(g * t / eps))\n",
    "\n",
    "def r_composite(t):\n",
    "    return r_initial(t) + (r_late(t) - (eps * np.log(a) + g * t)) * (t > t_star)\n",
    "\n",
    "def i(r):\n",
    "    return -(1 - a) * np.exp(-R0 * r) + 1 - r\n",
    "\n",
    "# ODE function for numerical solution\n",
    "def recovered_ode(t, r):\n",
    "    return g * (1 - r - (1 - a) * np.exp(-r / eps))\n",
    "\n",
    "# Solve the ODE numerically\n",
    "sol = solve_ivp(recovered_ode, [0, 3], [0], t_eval=np.linspace(0, 3, 300))\n",
    "\n",
    "t = sol.t\n",
    "r_num = sol.y[0]\n",
    "\n",
    "# Plotting\n",
    "plt.figure(figsize=(14, 6))\n",
    "\n",
    "# Initial and late solutions\n",
    "plt.subplot(1, 2, 1)\n",
    "plt.plot(t, r_initial(t), label='Initial solution')\n",
    "plt.plot(t, r_late(t), label='Late solution')\n",
    "plt.plot(t, i(r_composite(t)), label='Composite solution')\n",
    "plt.plot(t, r_num, label='Numerical solution')\n",
    "plt.ylim([-0.1, 1.1])\n",
    "plt.xlabel('t')\n",
    "plt.ylabel('Recovered population, r(t)')\n",
    "plt.legend()\n",
    "\n",
    "# Composite and numerical solutions\n",
    "plt.subplot(1, 2, 2)\n",
    "plt.plot(t, r_num, 'r', label='r(t) Numerical solution')\n",
    "plt.plot(t, r_composite(t), 'r-.', label='r(t) Composite solution')\n",
    "plt.plot(t, i(r_num), 'k-.', label='i(t) - Numerical')\n",
    "plt.plot(t, i(r_composite(t)), 'k', label='i(t) Composite solution')\n",
    "plt.xlabel('t')\n",
    "plt.ylabel('Population percentage')\n",
    "plt.legend()\n",
    "\n",
    "plt.tight_layout()\n",
    "plt.show()\n"
   ],
   "metadata": {
    "collapsed": false
   },
   "id": "f8502925becb94ae"
  }
 ],
 "metadata": {
  "kernelspec": {
   "display_name": "Python 3",
   "language": "python",
   "name": "python3"
  },
  "language_info": {
   "codemirror_mode": {
    "name": "ipython",
    "version": 2
   },
   "file_extension": ".py",
   "mimetype": "text/x-python",
   "name": "python",
   "nbconvert_exporter": "python",
   "pygments_lexer": "ipython2",
   "version": "2.7.6"
  }
 },
 "nbformat": 4,
 "nbformat_minor": 5
}
